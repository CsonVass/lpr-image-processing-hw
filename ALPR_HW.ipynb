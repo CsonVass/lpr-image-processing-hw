{
  "nbformat": 4,
  "nbformat_minor": 0,
  "metadata": {
    "colab": {
      "provenance": [],
      "include_colab_link": true
    },
    "kernelspec": {
      "name": "python3",
      "display_name": "Python 3"
    },
    "language_info": {
      "name": "python"
    }
  },
  "cells": [
    {
      "cell_type": "markdown",
      "metadata": {
        "id": "view-in-github",
        "colab_type": "text"
      },
      "source": [
        "<a href=\"https://colab.research.google.com/github/CsonVass/lpr-image-processing-hw/blob/main/ALPR_HW.ipynb\" target=\"_parent\"><img src=\"https://colab.research.google.com/assets/colab-badge.svg\" alt=\"Open In Colab\"/></a>"
      ]
    },
    {
      "cell_type": "markdown",
      "source": [
        "<div class=\"markdown-google-sans\">\n",
        "\n",
        "# <strong>Képfeldolgozás házi feladat - Automatikus rendszámtábla felismerő alkalmazás</strong>\n",
        "</div>\n",
        "\n",
        "* Jakosa Emma Kloé\n",
        "* Lanczki Enikő Bella\n",
        "* Ifkovics Barnabás\n",
        "* Vass Csongor"
      ],
      "metadata": {
        "id": "_6-n4xi7f7uC"
      }
    },
    {
      "cell_type": "markdown",
      "source": [
        "<div class=\"markdown-google-sans\">\n",
        "\n",
        "## <strong>Környezet inicializálása, adatok betöltése</strong>\n",
        "</div>"
      ],
      "metadata": {
        "id": "a0p_oxFgqQQb"
      }
    },
    {
      "cell_type": "code",
      "source": [
        "import cv2\n",
        "import math\n",
        "import matplotlib.pyplot as plt\n",
        "import numpy as np\n",
        "import os\n",
        "import sys\n",
        "import pandas as pd\n",
        "import pickle\n",
        "import random\n",
        "import urllib\n",
        "import imp\n",
        "import tensorflow as tf\n",
        "from keras import layers\n",
        "from keras import backend as K\n",
        "from matplotlib.backends.backend_pdf import PdfPages\n",
        "from sklearn.model_selection import train_test_split\n",
        "from tensorflow.python.ops.nn_ops import softmax"
      ],
      "metadata": {
        "id": "5azecQDif63O"
      },
      "execution_count": 2,
      "outputs": []
    },
    {
      "cell_type": "code",
      "source": [
        "from google.colab import drive\n",
        "drive.mount('/content/drive')\n",
        "\n",
        "DRIVE_PATH = 'drive/MyDrive/Colab Notebooks/ALPR'\n",
        "# path_to_data = DRIVE_PATH + '/KF_HF_database.csv';\n",
        "# data_csv = pd.read_csv(path_to_data, header=None, on_bad_lines='skip', sep=';')\n",
        "\n",
        "# plateTable = data_csv.iloc[0:,0:1].values\n",
        "# linksTable = data_csv.iloc[0:,2:].values\n"
      ],
      "metadata": {
        "id": "Birmf0IWgSvZ",
        "colab": {
          "base_uri": "https://localhost:8080/"
        },
        "outputId": "44186376-be01-4fde-f611-6000d89e393f"
      },
      "execution_count": 3,
      "outputs": [
        {
          "output_type": "stream",
          "name": "stdout",
          "text": [
            "Drive already mounted at /content/drive; to attempt to forcibly remount, call drive.mount(\"/content/drive\", force_remount=True).\n"
          ]
        }
      ]
    },
    {
      "cell_type": "code",
      "source": [
        "# hdr = {'User-Agent': 'Mozilla/5.0 (X11; Linux x86_64) AppleWebKit/537.11 (KHTML, like Gecko) Chrome/23.0.1271.64 Safari/537.11',\n",
        "#        'Accept': 'text/html,application/xhtml+xml,application/xml;q=0.9,*/*;q=0.8',\n",
        "#        'Accept-Charset': 'ISO-8859-1,utf-8;q=0.7,*;q=0.3',\n",
        "#        'Accept-Encoding': 'none',\n",
        "#        'Accept-Language': 'en-US,en;q=0.8',\n",
        "#        'Connection': 'keep-alive'}"
      ],
      "metadata": {
        "id": "ZUM8CFQHmZGs"
      },
      "execution_count": null,
      "outputs": []
    },
    {
      "cell_type": "code",
      "source": [
        "# req_ = urllib.request.Request(linksTable[0][0], headers=hdr)\n",
        "# req = urllib.request.urlopen(req_)\n",
        "# arr = np.asarray(bytearray(req.read()), dtype=np.uint8)\n",
        "# img_1 = cv2.imdecode(arr, -1)\n",
        "\n",
        "\n",
        "# plt.imshow(cv2.cvtColor(img_1, cv2.COLOR_BGR2RGB))\n",
        "# plt.axis(\"off\")\n",
        "# plt.show()"
      ],
      "metadata": {
        "id": "25xW1-W0jBmn",
        "colab": {
          "base_uri": "https://localhost:8080/",
          "height": 102
        },
        "outputId": "f4d0eb82-6e99-4f6c-c7b5-de70871d2da0"
      },
      "execution_count": null,
      "outputs": [
        {
          "output_type": "display_data",
          "data": {
            "text/plain": [
              "<Figure size 432x288 with 1 Axes>"
            ],
            "image/png": "[encoded data removed]"
          },
          "metadata": {
            "needs_background": "light"
          }
        }
      ]
    },
    {
      "cell_type": "code",
      "source": [
        "# np.set_printoptions(threshold=sys.maxsize)\n",
        "# print(plateTable)"
      ],
      "metadata": {
        "id": "mwHlBGPdv7jL"
      },
      "execution_count": null,
      "outputs": []
    },
    {
      "cell_type": "code",
      "source": [
        "# plate_images = []\n",
        "# high_images = []\n",
        "# low_images = []\n",
        "\n",
        "# for i in linksTable:\n",
        "#   req = urllib.request.urlopen(urllib.request.Request(i[0], headers=hdr))\n",
        "#   arr = np.asarray(bytearray(req.read()), dtype=np.uint8)\n",
        "#   plate_images.append(cv2.imdecode(arr, -1))\n",
        "\n",
        "#   req = urllib.request.urlopen(urllib.request.Request(i[1], headers=hdr))\n",
        "#   arr = np.asarray(bytearray(req.read()), dtype=np.uint8)\n",
        "#   high_images.append(cv2.imdecode(arr, -1))\n",
        "\n",
        "#   req = urllib.request.urlopen(urllib.request.Request(i[2], headers=hdr))\n",
        "#   arr = np.asarray(bytearray(req.read()), dtype=np.uint8)\n",
        "#   low_images.append(cv2.imdecode(arr, -1))"
      ],
      "metadata": {
        "id": "CFzFPZgCtDhx"
      },
      "execution_count": null,
      "outputs": []
    },
    {
      "cell_type": "code",
      "source": [
        "#options = {\"model\": \"cfg/yolo-1c.cfg\",\n",
        "#           \"load\": \"bin/yolo.weights\",\n",
        "#           \"batch\": 8,\n",
        "#           \"epoch\": 100,\n",
        "#           \"gpu\": 0.9,\n",
        "#           \"train\": True,\n",
        "#           \"annotation\": \"./data/AnnotationsXML/007/\",\n",
        "#           \"dataset\": \"./data/Images/007/\"}\n",
        "#tfnet = TFNet(options)\n",
        "#tfnet.train()\n",
        "#tfnet.savepb()"
      ],
      "metadata": {
        "id": "svbX9VWbCQGE"
      },
      "execution_count": null,
      "outputs": []
    },
    {
      "cell_type": "code",
      "source": [
        "import pathlib\n",
        "data_dir = pathlib.Path('/content/drive/MyDrive/Colab Notebooks/ALPR/data') \n",
        "plates = list(data_dir.glob('train/*_p.png'))\n",
        "high = list(data_dir.glob('train/*_h.jpg'))\n",
        "low = list(data_dir.glob('train/*_l.jpg'))"
      ],
      "metadata": {
        "id": "N5_IodtwOAou"
      },
      "execution_count": 43,
      "outputs": []
    },
    {
      "cell_type": "code",
      "source": [
        "from IPython.core import extensions\n",
        "import PIL\n",
        "import PIL.Image\n",
        "import tensorflow as tf\n",
        "import tensorflow_datasets as tfds\n",
        "\n",
        "# data_root='/content/drive/MyDrive/Colab Notebooks/ALPR'\n",
        "# TRAINING_DATA_DIR = str(data_root)\n",
        "# datagen_kwargs = dict(rescale=1./255, validation_split=.20)\n",
        "# valid_datagen = tf.keras.preprocessing.image.ImageDataGenerator(**datagen_kwargs)\n",
        "# IMAGE_SHAPE = (224, 224)\n",
        "\n",
        "# valid_generator = valid_datagen.flow_from_directory(\n",
        "# TRAINING_DATA_DIR,\n",
        "# subset=\"validation\",\n",
        "# shuffle=True,\n",
        "# target_size=IMAGE_SHAPE\n",
        "# )\n",
        "\n",
        "# batch_size = 32\n",
        "# img_height = 180\n",
        "# img_width = 180\n",
        "\n",
        "# train_ds = tf.keras.utils.image_dataset_from_directory(\n",
        "#   data_dir,\n",
        "#   validation_split=0.2,\n",
        "#   subset=\"training\",\n",
        "#   seed=123,\n",
        "#   image_size=(img_height, img_width),\n",
        "#   batch_size=batch_size)\n",
        "\n",
        "plate_images = []\n",
        "high_images = []\n",
        "low_images = []\n",
        "\n",
        "for i in plates:\n",
        "  plate_images.append(PIL.Image.open(i))\n",
        "\n",
        "for i in high:\n",
        "  high_images.append(PIL.Image.open(i))\n",
        "for i in low:\n",
        "  low_images.append(PIL.Image.open(i))\n",
        "\n"
      ],
      "metadata": {
        "id": "kKlnHF27OYHs"
      },
      "execution_count": 44,
      "outputs": []
    },
    {
      "cell_type": "code",
      "source": [],
      "metadata": {
        "id": "6RdJS77kh9MJ"
      },
      "execution_count": null,
      "outputs": []
    },
    {
      "cell_type": "code",
      "source": [
        "class_names = train_ds.class_names\n",
        "print(class_names)"
      ],
      "metadata": {
        "colab": {
          "base_uri": "https://localhost:8080/"
        },
        "id": "x1GUhP9ogRfx",
        "outputId": "984389f9-291d-485a-a48a-3e78fa896af6"
      },
      "execution_count": 12,
      "outputs": [
        {
          "output_type": "stream",
          "name": "stdout",
          "text": [
            "['train', 'validation']\n"
          ]
        }
      ]
    }
  ]
}