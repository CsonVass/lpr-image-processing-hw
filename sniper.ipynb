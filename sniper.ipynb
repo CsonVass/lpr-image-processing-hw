{
  "nbformat": 4,
  "nbformat_minor": 0,
  "metadata": {
    "colab": {
      "provenance": [],
      "authorship_tag": "ABX9TyOVYIiwVpSTefTkZq23cESV",
      "include_colab_link": true
    },
    "kernelspec": {
      "name": "python3",
      "display_name": "Python 3"
    },
    "language_info": {
      "name": "python"
    }
  },
  "cells": [
    {
      "cell_type": "markdown",
      "metadata": {
        "id": "view-in-github",
        "colab_type": "text"
      },
      "source": [
        "<a href=\"https://colab.research.google.com/github/CsonVass/lpr-image-processing-hw/blob/main/sniper.ipynb\" target=\"_parent\"><img src=\"https://colab.research.google.com/assets/colab-badge.svg\" alt=\"Open In Colab\"/></a>"
      ]
    },
    {
      "cell_type": "markdown",
      "source": [
        "## Only run first time, to set up the environment!"
      ],
      "metadata": {
        "id": "GaAdvQt6nlih"
      }
    },
    {
      "cell_type": "code",
      "execution_count": null,
      "metadata": {
        "id": "plAzfIJ4ZpZm"
      },
      "outputs": [],
      "source": [
        "# mount google drive with essential files\n",
        "from google.colab import drive\n",
        "drive.mount('/content/drive')\n",
        "%cd .."
      ]
    },
    {
      "cell_type": "code",
      "source": [
        "# install needed modules\n",
        "!pip install opencv-python\n",
        "!pip install numpy\n",
        "!pip install matplotlib\n",
        "!pip install pillow"
      ],
      "metadata": {
        "id": "N0MTP8k5ZxPg"
      },
      "execution_count": null,
      "outputs": []
    },
    {
      "cell_type": "code",
      "source": [
        "import cv2 \n",
        "import numpy as np \n",
        "import matplotlib.pyplot as plt\n",
        "import os\n",
        "from PIL import Image, ImageFilter\n",
        "from google.colab.patches import cv2_imshow"
      ],
      "metadata": {
        "id": "tA_G6SI_Zzds"
      },
      "execution_count": null,
      "outputs": []
    },
    {
      "cell_type": "code",
      "source": [
        "# create a directory where the results will be saved\n",
        "!mkdir detections \n",
        "!ls"
      ],
      "metadata": {
        "id": "4kON0-e0ESbr"
      },
      "execution_count": null,
      "outputs": []
    },
    {
      "cell_type": "code",
      "source": [
        "# the class that utilises the pre-trained weights\n",
        "class LicensePlateDetector:\n",
        "    def __init__(self, pth_weights: str, pth_cfg: str, pth_classes: str):\n",
        "        self.net = cv2.dnn.readNet(pth_weights, pth_cfg)\n",
        "        self.classes = []\n",
        "        with open(pth_classes, 'r') as f:\n",
        "            self.classes = f.read().splitlines()\n",
        "        self.font = cv2.FONT_HERSHEY_PLAIN\n",
        "        self.color = (255, 0, 0)\n",
        "        self.coordinates = []\n",
        "        self.confidences = []\n",
        "        self.img = None\n",
        "        self.fig_image = None\n",
        "        self.roi_image = []\n",
        "        \n",
        "    # detects all the bounding boxes  \n",
        "    def detect(self, img_path: str):\n",
        "        orig = cv2.imread(img_path)\n",
        "        self.img = orig\n",
        "        img = orig.copy()\n",
        "        height, width, _ = img.shape\n",
        "        blob = cv2.dnn.blobFromImage(img, 1 / 255, (416, 416), (0, 0, 0), swapRB=True, crop=False)\n",
        "        self.net.setInput(blob)\n",
        "        output_layer_names = self.net.getUnconnectedOutLayersNames()\n",
        "        layer_outputs = self.net.forward(output_layer_names)\n",
        "        boxes = []\n",
        "        confidences = []\n",
        "        class_ids = []\n",
        "\n",
        "        for output in layer_outputs:\n",
        "            for detection in output:\n",
        "                scores = detection[5:]\n",
        "                class_id = np.argmax(scores) \n",
        "                confidence = scores[class_id]\n",
        "                if confidence > 0.82:\n",
        "                    center_x = int(detection[0] * width)\n",
        "                    center_y = int(detection[1] * height)\n",
        "                    w = int(detection[2] * width)\n",
        "                    h = int(detection[3] * height)\n",
        "                    x = int(center_x - w / 2)\n",
        "                    y = int(center_y - h / 2)\n",
        "\n",
        "                    boxes.append([x, y, w, h])\n",
        "                    confidences.append((float(confidence)))\n",
        "                    class_ids.append(class_id)\n",
        "        self.confidences = confidences\n",
        "        indexes = cv2.dnn.NMSBoxes(boxes, confidences, 0.2, 0.4)\n",
        "\n",
        "        if len(indexes) > 0:\n",
        "            for i in indexes.flatten():\n",
        "                x, y, w, h = boxes[i]\n",
        "                self.coordinates.append([x, y, w, h])\n",
        "        return\n",
        "    \n",
        "    \n",
        "    # crops all the detected license plates\n",
        "    def crop_plate(self):\n",
        "        for plate in range(len(self.coordinates)):\n",
        "          x, y, w, h = self.coordinates[plate]\n",
        "          self.roi_image.append(self.img[y:y + h, x:x + w])\n",
        "        return\n"
      ],
      "metadata": {
        "id": "VsBLdGSOZ1yl"
      },
      "execution_count": null,
      "outputs": []
    },
    {
      "cell_type": "markdown",
      "source": [
        "## Choose the folder where the images are located"
      ],
      "metadata": {
        "id": "SYwMjY7Qn7q0"
      }
    },
    {
      "cell_type": "code",
      "source": [
        "image_folder = '/content/drive/MyDrive/images/'"
      ],
      "metadata": {
        "id": "wTa6DlmuZ928"
      },
      "execution_count": null,
      "outputs": []
    },
    {
      "cell_type": "code",
      "source": [
        "for image in os.listdir(image_folder):\n",
        "  if image == 'sniped':\n",
        "    continue\n",
        "\n",
        "  image_path = os.path.join(image_folder, image)\n",
        "\n",
        "  image_name = image.split('.')[0]\n",
        "  # print(\"image_name: \\t\\t\" + image_name)\n",
        "\n",
        "  new_folder = os.path.join('/detections/', image_name)\n",
        "  # print(\"new_folder: \\t\\t\" + new_folder)\n",
        "\n",
        "  drive_new_folder = os.path.join('/content/drive/MyDrive/images/sniped/', image_name)\n",
        "  print(\"drive_new_folder: \" + drive_new_folder)\n",
        "\n",
        "  lpd = LicensePlateDetector(\n",
        "      pth_weights='/content/drive/MyDrive/yolov4/backup/yolov4-obj_last.weights',\n",
        "      pth_cfg='/content/drive/MyDrive/yolov4/yolov4-obj.cfg', \n",
        "      pth_classes='/content/drive/MyDrive/yolov4/obj.names')\n",
        "\n",
        "  # Detect license plate\n",
        "  lpd.detect(image_path)\n",
        "\n",
        "  # Crop plate and show cropped plate\n",
        "  lpd.crop_plate()\n",
        "  for i in range(len(lpd.roi_image)):\n",
        "    print(\"License plate no. {\" + str(i + 1) + \"} with confidence: \" + str(lpd.confidences[i]))\n",
        "\n",
        "  print(\"\")\n",
        "\n",
        "  if not os.path.exists(new_folder) and not os.path.exists(drive_new_folder):\n",
        "\n",
        "    os.mkdir(new_folder)\n",
        "    os.mkdir(drive_new_folder)\n",
        "\n",
        "    for plate in range(len(lpd.roi_image)):\n",
        "\n",
        "      im = Image.fromarray(lpd.roi_image[plate])\n",
        "\n",
        "      # scale up\n",
        "      size = 416, int((416 / im.size[0]) * im.size[1])\n",
        "      im = im.resize(size)\n",
        "\n",
        "      # little gaussian blur to filter noise\n",
        "      im = im.filter(ImageFilter.GaussianBlur(radius = 1))\n",
        "\n",
        "      # save to drive and cloud env\n",
        "      im.save(new_folder + '/' + str(plate) + image)\n",
        "      im.save(drive_new_folder + '/' + str(plate) + image)\n",
        "\n",
        "      # display\n",
        "      # plt.figure(figsize=(10, 4))\n",
        "      # plt.imshow(cv2.cvtColor(lpd.roi_image[plate], cv2.COLOR_BGR2RGB))"
      ],
      "metadata": {
        "colab": {
          "base_uri": "https://localhost:8080/"
        },
        "id": "Do8sDyqsaCb5",
        "outputId": "97039987-c289-4abf-9cdb-81b55dd01671"
      },
      "execution_count": null,
      "outputs": [
        {
          "output_type": "stream",
          "name": "stdout",
          "text": [
            "drive_new_folder: /content/drive/MyDrive/images/sniped/29424b7a1926ec4e\n",
            "License plate no. {1} with confidence: 0.9513380527496338\n",
            "\n",
            "drive_new_folder: /content/drive/MyDrive/images/sniped/18666381\n",
            "License plate no. {1} with confidence: 0.9583039879798889\n",
            "\n",
            "drive_new_folder: /content/drive/MyDrive/images/sniped/18664994\n",
            "License plate no. {1} with confidence: 0.875501811504364\n",
            "\n",
            "drive_new_folder: /content/drive/MyDrive/images/sniped/RYX-928_h\n",
            "License plate no. {1} with confidence: 0.8943033814430237\n",
            "License plate no. {2} with confidence: 0.8404107093811035\n",
            "\n",
            "drive_new_folder: /content/drive/MyDrive/images/sniped/SWS-448_h\n",
            "License plate no. {1} with confidence: 0.949833333492279\n",
            "\n",
            "drive_new_folder: /content/drive/MyDrive/images/sniped/316476175_650984866763427_8310885032851288955_n\n",
            "License plate no. {1} with confidence: 0.83013516664505\n",
            "\n",
            "drive_new_folder: /content/drive/MyDrive/images/sniped/20434076\n",
            "License plate no. {1} with confidence: 0.945834755897522\n",
            "License plate no. {2} with confidence: 0.936112642288208\n",
            "\n",
            "drive_new_folder: /content/drive/MyDrive/images/sniped/20434135\n",
            "License plate no. {1} with confidence: 0.9279032349586487\n",
            "License plate no. {2} with confidence: 0.8626621961593628\n",
            "\n",
            "drive_new_folder: /content/drive/MyDrive/images/sniped/20430001\n",
            "License plate no. {1} with confidence: 0.8630086183547974\n",
            "\n",
            "drive_new_folder: /content/drive/MyDrive/images/sniped/20429684\n",
            "License plate no. {1} with confidence: 0.9025716781616211\n",
            "\n"
          ]
        }
      ]
    },
    {
      "cell_type": "code",
      "source": [
        "im = cv2.imread(\"/content/drive/MyDrive/images/sniped/20430001/020430001.jpg\")\n",
        "cv2_imshow(im)\n",
        "thresh = 127\n",
        "im_bw = cv2.threshold(im, thresh, 255, cv2.THRESH_BINARY)[1]\n",
        "cv2_imshow(im_bw)"
      ],
      "metadata": {
        "id": "uN_pdznUhQWd"
      },
      "execution_count": null,
      "outputs": []
    },
    {
      "cell_type": "markdown",
      "source": [
        "## Run this box to purge all the saved files!"
      ],
      "metadata": {
        "id": "OMGLvSJ8oWns"
      }
    },
    {
      "cell_type": "code",
      "source": [
        "# PURGE !!\n",
        "!rm -f -R /content/drive/MyDrive/images/sniped/*\n",
        "!rm -f -R detections/*"
      ],
      "metadata": {
        "id": "c5P-kCzyaRVK"
      },
      "execution_count": null,
      "outputs": []
    },
    {
      "cell_type": "code",
      "source": [
        "!ls /content/drive/MyDrive/images/sniped/\n",
        "!ls detections/"
      ],
      "metadata": {
        "id": "DNb7Pabosg3y"
      },
      "execution_count": null,
      "outputs": []
    }
  ]
}