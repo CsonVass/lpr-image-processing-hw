{
  "nbformat": 4,
  "nbformat_minor": 0,
  "metadata": {
    "colab": {
      "provenance": [],
      "mount_file_id": "1sWuph-F8eFEYo4s15cqejhe_CACGo2HU",
      "authorship_tag": "ABX9TyMgMIJFxP6XCRQLpavTysU7",
      "include_colab_link": true
    },
    "kernelspec": {
      "name": "python3",
      "display_name": "Python 3"
    },
    "language_info": {
      "name": "python"
    },
    "accelerator": "GPU",
    "gpuClass": "standard"
  },
  "cells": [
    {
      "cell_type": "markdown",
      "metadata": {
        "id": "view-in-github",
        "colab_type": "text"
      },
      "source": [
        "<a href=\"https://colab.research.google.com/github/CsonVass/lpr-image-processing-hw/blob/main/train_yolo.ipynb\" target=\"_parent\"><img src=\"https://colab.research.google.com/assets/colab-badge.svg\" alt=\"Open In Colab\"/></a>"
      ]
    },
    {
      "cell_type": "code",
      "execution_count": null,
      "metadata": {
        "id": "ipAvcPPTdanm"
      },
      "outputs": [],
      "source": [
        "# mount google drive with essential files\n",
        "from google.colab import drive\n",
        "drive.mount('/content/drive')\n",
        "%cd .."
      ]
    },
    {
      "cell_type": "code",
      "source": [
        "# clone darknet repo\n",
        "!git clone https://github.com/AlexeyAB/darknet"
      ],
      "metadata": {
        "id": "7DmkXz90d0uq"
      },
      "execution_count": null,
      "outputs": []
    },
    {
      "cell_type": "code",
      "source": [
        "# change makefile to have GPU and OPENCV enabled\n",
        "%cd darknet\n",
        "!sed -i 's/OPENCV=0/OPENCV=1/' Makefile\n",
        "!sed -i 's/GPU=0/GPU=1/' Makefile\n",
        "!sed -i 's/CUDNN=0/CUDNN=1/' Makefile\n",
        "!sed -i 's/CUDNN_HALF=0/CUDNN_HALF=1/' Makefile"
      ],
      "metadata": {
        "id": "3kS8aieOd9rs"
      },
      "execution_count": null,
      "outputs": []
    },
    {
      "cell_type": "code",
      "source": [
        "# verify CUDA\n",
        "!/usr/local/cuda/bin/nvcc --version"
      ],
      "metadata": {
        "id": "Ir72NRaAd_6C"
      },
      "execution_count": null,
      "outputs": []
    },
    {
      "cell_type": "code",
      "source": [
        "# make darknet (builds darknet so that you can then use the darknet executable file to run or train object detectors)\n",
        "!make"
      ],
      "metadata": {
        "id": "ts4Pg99-eAax"
      },
      "execution_count": null,
      "outputs": []
    },
    {
      "cell_type": "code",
      "source": [
        "# define helper functions\n",
        "def imShow(path):\n",
        "  import cv2\n",
        "  import matplotlib.pyplot as plt\n",
        "  %matplotlib inline\n",
        "\n",
        "  image = cv2.imread(path)\n",
        "  height, width = image.shape[:2]\n",
        "  resized_image = cv2.resize(image,(3*width, 3*height), interpolation = cv2.INTER_CUBIC)\n",
        "\n",
        "  fig = plt.gcf()\n",
        "  fig.set_size_inches(18, 10)\n",
        "  plt.axis(\"off\")\n",
        "  plt.imshow(cv2.cvtColor(resized_image, cv2.COLOR_BGR2RGB))\n",
        "  plt.show()\n",
        "\n",
        "# use this to upload files\n",
        "def upload():\n",
        "  from google.colab import files\n",
        "  uploaded = files.upload() \n",
        "  for name, data in uploaded.items():\n",
        "    with open(name, 'wb') as f:\n",
        "      f.write(data)\n",
        "      print ('saved file', name)\n",
        "\n",
        "# use this to download a file  \n",
        "def download(path):\n",
        "  from google.colab import files\n",
        "  files.download(path)"
      ],
      "metadata": {
        "id": "2X8zhezNeTzM"
      },
      "execution_count": null,
      "outputs": []
    },
    {
      "cell_type": "code",
      "source": [
        "# this is where my datasets are stored within my Google Drive\n",
        "!ls /content/drive/MyDrive/yolov4"
      ],
      "metadata": {
        "id": "m_nYlrRted9g"
      },
      "execution_count": null,
      "outputs": []
    },
    {
      "cell_type": "code",
      "source": [
        "!ls ../"
      ],
      "metadata": {
        "id": "nEs6SmwUmkmZ"
      },
      "execution_count": null,
      "outputs": []
    },
    {
      "cell_type": "code",
      "source": [
        "# copy over both datasets into the root directory of the Colab VM (comment out test.zip if you are not using a validation dataset)\n",
        "!cp /content/drive/MyDrive/yolov4/obj.zip ../\n",
        "!cp /content/drive/MyDrive/yolov4/test.zip ../"
      ],
      "metadata": {
        "id": "OGHBwXque6Kv"
      },
      "execution_count": null,
      "outputs": []
    },
    {
      "cell_type": "code",
      "source": [
        "# unzip the datasets and their contents so that they are now in /darknet/data/ folder\n",
        "!unzip ../obj.zip -d data/\n",
        "!unzip ../test.zip -d data/"
      ],
      "metadata": {
        "id": "BjXYdetne7-Y"
      },
      "execution_count": null,
      "outputs": []
    },
    {
      "cell_type": "code",
      "source": [
        "# upload the custom .cfg back to cloud VM from Google Drive\n",
        "!cp /content/drive/MyDrive/yolov4/yolov4-obj.cfg yolov4-obj.cfg"
      ],
      "metadata": {
        "id": "3mmcoUrKfCYe"
      },
      "execution_count": null,
      "outputs": []
    },
    {
      "cell_type": "code",
      "source": [
        "# upload the obj.names and obj.data files to cloud VM from Google Drive\n",
        "!cp /content/drive/MyDrive/yolov4/obj.names ./data\n",
        "!cp /content/drive/MyDrive/yolov4/obj.data  ./data"
      ],
      "metadata": {
        "id": "LjhtCE3SfERG"
      },
      "execution_count": null,
      "outputs": []
    },
    {
      "cell_type": "code",
      "source": [
        "# upload the generate_train.py and generate_test.py script to cloud VM from Google Drive\n",
        "!cp /content/drive/MyDrive/yolov4/generate_train.py ./\n",
        "!cp /content/drive/MyDrive/yolov4/generate_test.py ./"
      ],
      "metadata": {
        "id": "b6oy008_fGPS"
      },
      "execution_count": null,
      "outputs": []
    },
    {
      "cell_type": "code",
      "source": [
        "# run generator scripts\n",
        "!python generate_train.py\n",
        "!python generate_test.py"
      ],
      "metadata": {
        "id": "0hrcQ7cgfH1x"
      },
      "execution_count": null,
      "outputs": []
    },
    {
      "cell_type": "code",
      "source": [
        "# verify that the newly generated train.txt and test.txt can be seen in our darknet/data folder\n",
        "!ls data/"
      ],
      "metadata": {
        "id": "9lqy6qZ6fLC8"
      },
      "execution_count": null,
      "outputs": []
    },
    {
      "cell_type": "code",
      "source": [
        "# get darknet optimal weights, to serve as a backbone of the network\n",
        "!wget https://github.com/AlexeyAB/darknet/releases/download/darknet_yolo_v3_optimal/yolov4.conv.137"
      ],
      "metadata": {
        "id": "Tbx8gdCPfSJU"
      },
      "execution_count": null,
      "outputs": []
    },
    {
      "cell_type": "code",
      "source": [
        "# check if all neccessary files are in the cloud\n",
        "!pwd"
      ],
      "metadata": {
        "id": "1ADDngMOfh9p"
      },
      "execution_count": null,
      "outputs": []
    },
    {
      "cell_type": "code",
      "source": [
        "# need to set our custom cfg to train mode \n",
        "!sed -i 's/batch=1/batch=64/' yolov4-obj.cfg\n",
        "!sed -i 's/subdivisions=1/subdivisions=16/' yolov4-obj.cfg"
      ],
      "metadata": {
        "id": "eKKEPlst75He"
      },
      "execution_count": null,
      "outputs": []
    },
    {
      "cell_type": "code",
      "source": [
        "# train your custom detector! (uncomment %%capture below if you run into memory issues or your Colab is crashing)\n",
        "# %%capture\n",
        "!./darknet detector train data/obj.data yolov4-obj.cfg yolov4.conv.137 -dont_show -map"
      ],
      "metadata": {
        "id": "qVD2re6Ifg5i"
      },
      "execution_count": null,
      "outputs": []
    },
    {
      "cell_type": "code",
      "source": [
        "# show chart.png of how custom object detector did with training\n",
        "imShow('chart.png')"
      ],
      "metadata": {
        "id": "_L-gflIqfrpz"
      },
      "execution_count": null,
      "outputs": []
    },
    {
      "cell_type": "code",
      "source": [
        "# kick off training from where it last saved\n",
        "!./darknet detector train data/obj.data yolov4-obj.cfg /content/drive/MyDrive/yolov4/backup/yolov4-obj_last.weights -dont_show"
      ],
      "metadata": {
        "id": "HzjiXh7UfuxI"
      },
      "execution_count": null,
      "outputs": []
    },
    {
      "cell_type": "code",
      "source": [
        "# check accuracy of weights\n",
        "!./darknet detector map data/obj.data yolov4-obj.cfg /content/drive/MyDrive/yolov4/backup/yolov4-obj_2000.weights"
      ],
      "metadata": {
        "id": "Hle3RsLmf1Uk"
      },
      "execution_count": null,
      "outputs": []
    },
    {
      "cell_type": "code",
      "source": [
        "# need to set our custom cfg to test mode \n",
        "!sed -i 's/batch=64/batch=1/' yolov4-obj.cfg\n",
        "!sed -i 's/subdivisions=16/subdivisions=1/' yolov4-obj.cfg"
      ],
      "metadata": {
        "id": "kPKQDAyjf85t"
      },
      "execution_count": null,
      "outputs": []
    },
    {
      "cell_type": "code",
      "source": [
        "# run your custom detector with this command (upload an image to your google drive to test, thresh flag sets accuracy that detection must be in order to show it)\n",
        "!./darknet detector test data/obj.data yolov4-obj.cfg /content/drive/MyDrive/yolov4/backup/yolov4-obj_last.weights /content/drive/MyDrive/images/18664994.jpg -thresh 0.3\n",
        "imShow('predictions.jpg')"
      ],
      "metadata": {
        "id": "UasJF0MJf-q_"
      },
      "execution_count": null,
      "outputs": []
    },
    {
      "cell_type": "code",
      "source": [
        "# get the boundigbox \n",
        "!./darknet detect yolov4-obj.cfg /content/drive/MyDrive/yolov4/backup/yolov4-obj_2000.weights /content/drive/MyDrive/images/LWU-616_h.jpg\n",
        "imShow('predictions.jpg')"
      ],
      "metadata": {
        "id": "yHb4V5wOiUPx"
      },
      "execution_count": null,
      "outputs": []
    }
  ]
}